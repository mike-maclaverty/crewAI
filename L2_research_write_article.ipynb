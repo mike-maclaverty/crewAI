{
 "cells": [
  {
   "cell_type": "markdown",
   "metadata": {},
   "source": [
    "You can download the `requirements.txt` for this course from the workspace of this lab. `File --> Open...`"
   ]
  },
  {
   "cell_type": "markdown",
   "metadata": {},
   "source": [
    "# L2: Create Agents to Research and Write an Article\n",
    "\n",
    "In this lesson, you will be introduced to the foundational concepts of multi-agent systems and get an overview of the crewAI framework."
   ]
  },
  {
   "cell_type": "markdown",
   "metadata": {},
   "source": [
    "The libraries are already installed in the classroom. If you're running this notebook on your own machine, you can install the following:\n",
    "```Python\n",
    "!pip install crewai==0.28.8 crewai_tools==0.1.6 langchain_community==0.0.29\n",
    "```"
   ]
  },
  {
   "cell_type": "code",
   "execution_count": 1,
   "metadata": {
    "height": 64
   },
   "outputs": [],
   "source": [
    "# Warning control\n",
    "import warnings\n",
    "warnings.filterwarnings('ignore')"
   ]
  },
  {
   "cell_type": "markdown",
   "metadata": {},
   "source": [
    "- Import from the crewAI libray."
   ]
  },
  {
   "cell_type": "code",
   "execution_count": 2,
   "metadata": {
    "height": 30
   },
   "outputs": [],
   "source": [
    "from crewai import Agent, Task, Crew"
   ]
  },
  {
   "cell_type": "markdown",
   "metadata": {},
   "source": [
    "- As a LLM for your agents, you'll be using OpenAI's `gpt-3.5-turbo`.\n",
    "\n",
    "**Optional Note:** crewAI also allow other popular models to be used as a LLM for your Agents. You can see some of the examples at the [bottom of the notebook](#1)."
   ]
  },
  {
   "cell_type": "code",
   "execution_count": 3,
   "metadata": {
    "height": 98
   },
   "outputs": [],
   "source": [
    "import os\n",
    "from utils import get_openai_api_key\n",
    "\n",
    "openai_api_key = get_openai_api_key()\n",
    "os.environ[\"OPENAI_MODEL_NAME\"] = 'gpt-3.5-turbo'"
   ]
  },
  {
   "cell_type": "markdown",
   "metadata": {},
   "source": [
    "## Creating Agents\n",
    "\n",
    "- Define your Agents, and provide them a `role`, `goal` and `backstory`.\n",
    "- It has been seen that LLMs perform better when they are role playing."
   ]
  },
  {
   "cell_type": "markdown",
   "metadata": {},
   "source": [
    "### Agent: Planner\n",
    "\n",
    "**Note**: The benefit of using _multiple strings_ :\n",
    "```Python\n",
    "varname = \"line 1 of text\"\n",
    "          \"line 2 of text\"\n",
    "```\n",
    "\n",
    "versus the _triple quote docstring_:\n",
    "```Python\n",
    "varname = \"\"\"line 1 of text\n",
    "             line 2 of text\n",
    "          \"\"\"\n",
    "```\n",
    "is that it can avoid adding those whitespaces and newline characters, making it better formatted to be passed to the LLM."
   ]
  },
  {
   "cell_type": "code",
   "execution_count": 4,
   "metadata": {
    "height": 251
   },
   "outputs": [],
   "source": [
    "planner = Agent(\n",
    "    role=\"Content Planner\",\n",
    "    goal=\"Plan engaging and factually accurate content on {topic}\",\n",
    "    backstory=\"You're working on planning a blog article \"\n",
    "              \"about the topic: {topic}.\"\n",
    "              \"You collect information that helps the \"\n",
    "              \"audience learn something \"\n",
    "              \"and make informed decisions. \"\n",
    "              \"Your work is the basis for \"\n",
    "              \"the Content Writer to write an article on this topic.\",\n",
    "    allow_delegation=False,\n",
    "\tverbose=True\n",
    ")"
   ]
  },
  {
   "cell_type": "markdown",
   "metadata": {},
   "source": [
    "### Agent: Writer"
   ]
  },
  {
   "cell_type": "code",
   "execution_count": 5,
   "metadata": {
    "height": 387
   },
   "outputs": [],
   "source": [
    "writer = Agent(\n",
    "    role=\"Content Writer\",\n",
    "    goal=\"Write insightful and factually accurate \"\n",
    "         \"opinion piece about the topic: {topic}\",\n",
    "    backstory=\"You're working on a writing \"\n",
    "              \"a new opinion piece about the topic: {topic}. \"\n",
    "              \"You base your writing on the work of \"\n",
    "              \"the Content Planner, who provides an outline \"\n",
    "              \"and relevant context about the topic. \"\n",
    "              \"You follow the main objectives and \"\n",
    "              \"direction of the outline, \"\n",
    "              \"as provided by the Content Planner. \"\n",
    "              \"You also provide objective and impartial insights \"\n",
    "              \"and back them up with information \"\n",
    "              \"provided by the Content Planner. \"\n",
    "              \"You acknowledge in your opinion piece \"\n",
    "              \"when your statements are opinions \"\n",
    "              \"as opposed to objective statements.\",\n",
    "    allow_delegation=False,\n",
    "    verbose=True\n",
    ")"
   ]
  },
  {
   "cell_type": "markdown",
   "metadata": {},
   "source": [
    "### Agent: Editor"
   ]
  },
  {
   "cell_type": "code",
   "execution_count": 6,
   "metadata": {
    "height": 285
   },
   "outputs": [],
   "source": [
    "editor = Agent(\n",
    "    role=\"Editor\",\n",
    "    goal=\"Edit a given blog post to align with \"\n",
    "         \"the writing style of the organization. \",\n",
    "    backstory=\"You are an editor who receives a blog post \"\n",
    "              \"from the Content Writer. \"\n",
    "              \"Your goal is to review the blog post \"\n",
    "              \"to ensure that it follows journalistic best practices,\"\n",
    "              \"provides balanced viewpoints \"\n",
    "              \"when providing opinions or assertions, \"\n",
    "              \"and also avoids major controversial topics \"\n",
    "              \"or opinions when possible.\",\n",
    "    allow_delegation=False,\n",
    "    verbose=True\n",
    ")"
   ]
  },
  {
   "cell_type": "markdown",
   "metadata": {},
   "source": [
    "## Creating Tasks\n",
    "\n",
    "- Define your Tasks, and provide them a `description`, `expected_output` and `agent`."
   ]
  },
  {
   "cell_type": "markdown",
   "metadata": {},
   "source": [
    "### Task: Plan"
   ]
  },
  {
   "cell_type": "code",
   "execution_count": 7,
   "metadata": {
    "height": 285
   },
   "outputs": [],
   "source": [
    "plan = Task(\n",
    "    description=(\n",
    "        \"1. Prioritize the latest trends, key players, \"\n",
    "            \"and noteworthy news on {topic}.\\n\"\n",
    "        \"2. Identify the target audience, considering \"\n",
    "            \"their interests and pain points.\\n\"\n",
    "        \"3. Develop a detailed content outline including \"\n",
    "            \"an introduction, key points, and a call to action.\\n\"\n",
    "        \"4. Include SEO keywords and relevant data or sources.\"\n",
    "    ),\n",
    "    expected_output=\"A comprehensive content plan document \"\n",
    "        \"with an outline, audience analysis, \"\n",
    "        \"SEO keywords, and resources.\",\n",
    "    agent=planner,\n",
    ")"
   ]
  },
  {
   "cell_type": "markdown",
   "metadata": {},
   "source": [
    "### Task: Write"
   ]
  },
  {
   "cell_type": "code",
   "execution_count": 8,
   "metadata": {
    "height": 319
   },
   "outputs": [],
   "source": [
    "write = Task(\n",
    "    description=(\n",
    "        \"1. Use the content plan to craft a compelling \"\n",
    "            \"blog post on {topic}.\\n\"\n",
    "        \"2. Incorporate SEO keywords naturally.\\n\"\n",
    "\t\t\"3. Sections/Subtitles are properly named \"\n",
    "            \"in an engaging manner.\\n\"\n",
    "        \"4. Ensure the post is structured with an \"\n",
    "            \"engaging introduction, insightful body, \"\n",
    "            \"and a summarizing conclusion.\\n\"\n",
    "        \"5. Proofread for grammatical errors and \"\n",
    "            \"alignment with the brand's voice.\\n\"\n",
    "    ),\n",
    "    expected_output=\"A well-written blog post \"\n",
    "        \"in markdown format, ready for publication, \"\n",
    "        \"each section should have 2 or 3 paragraphs.\",\n",
    "    agent=writer,\n",
    ")"
   ]
  },
  {
   "cell_type": "markdown",
   "metadata": {},
   "source": [
    "### Task: Edit"
   ]
  },
  {
   "cell_type": "code",
   "execution_count": 9,
   "metadata": {
    "height": 183
   },
   "outputs": [],
   "source": [
    "edit = Task(\n",
    "    description=(\"Proofread the given blog post for \"\n",
    "                 \"grammatical errors and \"\n",
    "                 \"alignment with the brand's voice.\"),\n",
    "    expected_output=\"A well-written blog post in markdown format, \"\n",
    "                    \"ready for publication, \"\n",
    "                    \"each section should have 2 or 3 paragraphs.\",\n",
    "    agent=editor\n",
    ")"
   ]
  },
  {
   "cell_type": "markdown",
   "metadata": {},
   "source": [
    "## Creating the Crew\n",
    "\n",
    "- Create your crew of Agents\n",
    "- Pass the tasks to be performed by those agents.\n",
    "    - **Note**: *For this simple example*, the tasks will be performed sequentially (i.e they are dependent on each other), so the _order_ of the task in the list _matters_.\n",
    "- `verbose=2` allows you to see all the logs of the execution. "
   ]
  },
  {
   "cell_type": "code",
   "execution_count": 10,
   "metadata": {
    "height": 98
   },
   "outputs": [],
   "source": [
    "crew = Crew(\n",
    "    agents=[planner, writer, editor],\n",
    "    tasks=[plan, write, edit],\n",
    "    verbose=2\n",
    ")"
   ]
  },
  {
   "cell_type": "markdown",
   "metadata": {},
   "source": [
    "## Running the Crew"
   ]
  },
  {
   "cell_type": "markdown",
   "metadata": {},
   "source": [
    "**Note**: LLMs can provide different outputs for they same input, so what you get might be different than what you see in the video."
   ]
  },
  {
   "cell_type": "code",
   "execution_count": 11,
   "metadata": {
    "height": 47
   },
   "outputs": [
    {
     "name": "stdout",
     "output_type": "stream",
     "text": [
      "\u001b[1m\u001b[95m [DEBUG]: == Working Agent: Content Planner\u001b[00m\n",
      "\u001b[1m\u001b[95m [INFO]: == Starting Task: 1. Prioritize the latest trends, key players, and noteworthy news on Multi AI Agent Systems.\n",
      "2. Identify the target audience, considering their interests and pain points.\n",
      "3. Develop a detailed content outline including an introduction, key points, and a call to action.\n",
      "4. Include SEO keywords and relevant data or sources.\u001b[00m\n",
      "\n",
      "\n",
      "\u001b[1m> Entering new CrewAgentExecutor chain...\u001b[0m\n",
      "\u001b[32;1m\u001b[1;3mI now can give a great answer\n",
      "\n",
      "Final Answer:\n",
      "\n",
      "Content Plan Document:\n",
      "\n",
      "Title: Exploring the Latest Trends in Multi AI Agent Systems\n",
      "\n",
      "Introduction:\n",
      "- Brief explanation of Multi AI Agent Systems\n",
      "- Importance of understanding the latest trends in this field\n",
      "- Overview of key players and noteworthy news\n",
      "\n",
      "Key Points:\n",
      "1. Latest Trends in Multi AI Agent Systems\n",
      "- Advancements in AI technology\n",
      "- Integration of machine learning algorithms\n",
      "- Applications in various industries\n",
      "\n",
      "2. Key Players in the Multi AI Agent Systems Market\n",
      "- Leading companies in the field\n",
      "- Collaborations and partnerships in the industry\n",
      "- Impact on the market dynamics\n",
      "\n",
      "3. Noteworthy News in Multi AI Agent Systems\n",
      "- Recent developments and breakthroughs\n",
      "- Industry events and conferences\n",
      "- Future predictions and forecasts\n",
      "\n",
      "Audience Analysis:\n",
      "Target Audience: \n",
      "- Professionals in the AI and technology industry\n",
      "- Researchers and academics in the field of artificial intelligence\n",
      "- Business owners and decision-makers interested in AI applications\n",
      "\n",
      "Interests:\n",
      "- Stay updated on the latest trends and developments in AI technology\n",
      "- Learn about key players and innovations in the Multi AI Agent Systems market\n",
      "- Understand the potential impact of AI on various industries\n",
      "\n",
      "Pain Points:\n",
      "- Lack of information on the latest trends in Multi AI Agent Systems\n",
      "- Difficulty in identifying key players and industry news\n",
      "- Uncertainty about the future direction of AI technology\n",
      "\n",
      "SEO Keywords:\n",
      "- Multi AI Agent Systems trends\n",
      "- Key players in AI industry\n",
      "- Latest news in artificial intelligence\n",
      "- Future of AI technology\n",
      "- AI applications in various industries\n",
      "\n",
      "Resources:\n",
      "1. Forbes - \"The Future of AI: 10 Trends to Watch in Multi AI Agent Systems\"\n",
      "2. TechCrunch - \"Key Players Shaping the AI Industry\"\n",
      "3. MIT Technology Review - \"Latest Developments in AI and Machine Learning\"\n",
      "4. Gartner - \"Predictions for the AI Market in the Coming Years\" \n",
      "\n",
      "Conclusion:\n",
      "Summarize the key points discussed in the article\n",
      "Encourage readers to stay informed about the latest trends in Multi AI Agent Systems\n",
      "Provide a call to action for further exploration or engagement with the topic.\u001b[0m\n",
      "\n",
      "\u001b[1m> Finished chain.\u001b[0m\n",
      "\u001b[1m\u001b[92m [DEBUG]: == [Content Planner] Task output: Content Plan Document:\n",
      "\n",
      "Title: Exploring the Latest Trends in Multi AI Agent Systems\n",
      "\n",
      "Introduction:\n",
      "- Brief explanation of Multi AI Agent Systems\n",
      "- Importance of understanding the latest trends in this field\n",
      "- Overview of key players and noteworthy news\n",
      "\n",
      "Key Points:\n",
      "1. Latest Trends in Multi AI Agent Systems\n",
      "- Advancements in AI technology\n",
      "- Integration of machine learning algorithms\n",
      "- Applications in various industries\n",
      "\n",
      "2. Key Players in the Multi AI Agent Systems Market\n",
      "- Leading companies in the field\n",
      "- Collaborations and partnerships in the industry\n",
      "- Impact on the market dynamics\n",
      "\n",
      "3. Noteworthy News in Multi AI Agent Systems\n",
      "- Recent developments and breakthroughs\n",
      "- Industry events and conferences\n",
      "- Future predictions and forecasts\n",
      "\n",
      "Audience Analysis:\n",
      "Target Audience: \n",
      "- Professionals in the AI and technology industry\n",
      "- Researchers and academics in the field of artificial intelligence\n",
      "- Business owners and decision-makers interested in AI applications\n",
      "\n",
      "Interests:\n",
      "- Stay updated on the latest trends and developments in AI technology\n",
      "- Learn about key players and innovations in the Multi AI Agent Systems market\n",
      "- Understand the potential impact of AI on various industries\n",
      "\n",
      "Pain Points:\n",
      "- Lack of information on the latest trends in Multi AI Agent Systems\n",
      "- Difficulty in identifying key players and industry news\n",
      "- Uncertainty about the future direction of AI technology\n",
      "\n",
      "SEO Keywords:\n",
      "- Multi AI Agent Systems trends\n",
      "- Key players in AI industry\n",
      "- Latest news in artificial intelligence\n",
      "- Future of AI technology\n",
      "- AI applications in various industries\n",
      "\n",
      "Resources:\n",
      "1. Forbes - \"The Future of AI: 10 Trends to Watch in Multi AI Agent Systems\"\n",
      "2. TechCrunch - \"Key Players Shaping the AI Industry\"\n",
      "3. MIT Technology Review - \"Latest Developments in AI and Machine Learning\"\n",
      "4. Gartner - \"Predictions for the AI Market in the Coming Years\" \n",
      "\n",
      "Conclusion:\n",
      "Summarize the key points discussed in the article\n",
      "Encourage readers to stay informed about the latest trends in Multi AI Agent Systems\n",
      "Provide a call to action for further exploration or engagement with the topic.\n",
      "\n",
      "\u001b[00m\n",
      "\u001b[1m\u001b[95m [DEBUG]: == Working Agent: Content Writer\u001b[00m\n",
      "\u001b[1m\u001b[95m [INFO]: == Starting Task: 1. Use the content plan to craft a compelling blog post on Multi AI Agent Systems.\n",
      "2. Incorporate SEO keywords naturally.\n",
      "3. Sections/Subtitles are properly named in an engaging manner.\n",
      "4. Ensure the post is structured with an engaging introduction, insightful body, and a summarizing conclusion.\n",
      "5. Proofread for grammatical errors and alignment with the brand's voice.\n",
      "\u001b[00m\n",
      "\n",
      "\n",
      "\u001b[1m> Entering new CrewAgentExecutor chain...\u001b[0m\n",
      "\u001b[32;1m\u001b[1;3mI now can give a great answer\n",
      "\n",
      "Final Answer:\n",
      "\n",
      "# Exploring the Latest Trends in Multi AI Agent Systems\n",
      "\n",
      "In today's rapidly evolving technological landscape, Multi AI Agent Systems have emerged as a critical area of interest and innovation. These systems, which involve the integration of multiple artificial intelligence agents working together towards a common goal, are revolutionizing industries across the board. Understanding the latest trends in this field is essential for professionals in the AI and technology industry, researchers, academics, and business owners alike. By staying informed about the advancements in Multi AI Agent Systems, stakeholders can make informed decisions about the integration of AI technology into their operations.\n",
      "\n",
      "## Latest Trends in Multi AI Agent Systems\n",
      "\n",
      "The latest trends in Multi AI Agent Systems are driven by advancements in AI technology and the integration of machine learning algorithms. These developments have paved the way for more sophisticated and efficient AI systems that can tackle complex tasks with ease. From autonomous vehicles to personalized healthcare solutions, the applications of Multi AI Agent Systems are vast and continue to expand across various industries. By leveraging the power of AI, businesses can streamline operations, improve decision-making processes, and enhance customer experiences.\n",
      "\n",
      "## Key Players in the Multi AI Agent Systems Market\n",
      "\n",
      "Leading companies in the field of Multi AI Agent Systems are at the forefront of innovation, driving collaborations and partnerships that shape the industry's dynamics. These key players are constantly pushing the boundaries of AI technology, developing cutting-edge solutions that address real-world challenges. By understanding the landscape of the Multi AI Agent Systems market and the impact of these players, stakeholders can stay ahead of the curve and capitalize on emerging opportunities.\n",
      "\n",
      "## Noteworthy News in Multi AI Agent Systems\n",
      "\n",
      "Keeping up with the latest developments and breakthroughs in Multi AI Agent Systems is crucial for staying informed about industry events, conferences, and future predictions. Recent news in the field of AI technology offers valuable insights into the direction of the industry and the potential impact on various sectors. By staying informed about noteworthy news in Multi AI Agent Systems, professionals can anticipate market trends, identify emerging opportunities, and make strategic decisions that drive success.\n",
      "\n",
      "In conclusion, exploring the latest trends in Multi AI Agent Systems is essential for professionals and decision-makers in the AI and technology industry. By understanding the advancements, key players, and noteworthy news in this field, stakeholders can harness the power of AI technology to drive innovation and growth in their respective industries. I encourage readers to stay informed about the future of AI technology and to actively engage with the latest developments in Multi AI Agent Systems. Let's continue to explore the possibilities and potential of AI technology together.\u001b[0m\n",
      "\n",
      "\u001b[1m> Finished chain.\u001b[0m\n",
      "\u001b[1m\u001b[92m [DEBUG]: == [Content Writer] Task output: # Exploring the Latest Trends in Multi AI Agent Systems\n",
      "\n",
      "In today's rapidly evolving technological landscape, Multi AI Agent Systems have emerged as a critical area of interest and innovation. These systems, which involve the integration of multiple artificial intelligence agents working together towards a common goal, are revolutionizing industries across the board. Understanding the latest trends in this field is essential for professionals in the AI and technology industry, researchers, academics, and business owners alike. By staying informed about the advancements in Multi AI Agent Systems, stakeholders can make informed decisions about the integration of AI technology into their operations.\n",
      "\n",
      "## Latest Trends in Multi AI Agent Systems\n",
      "\n",
      "The latest trends in Multi AI Agent Systems are driven by advancements in AI technology and the integration of machine learning algorithms. These developments have paved the way for more sophisticated and efficient AI systems that can tackle complex tasks with ease. From autonomous vehicles to personalized healthcare solutions, the applications of Multi AI Agent Systems are vast and continue to expand across various industries. By leveraging the power of AI, businesses can streamline operations, improve decision-making processes, and enhance customer experiences.\n",
      "\n",
      "## Key Players in the Multi AI Agent Systems Market\n",
      "\n",
      "Leading companies in the field of Multi AI Agent Systems are at the forefront of innovation, driving collaborations and partnerships that shape the industry's dynamics. These key players are constantly pushing the boundaries of AI technology, developing cutting-edge solutions that address real-world challenges. By understanding the landscape of the Multi AI Agent Systems market and the impact of these players, stakeholders can stay ahead of the curve and capitalize on emerging opportunities.\n",
      "\n",
      "## Noteworthy News in Multi AI Agent Systems\n",
      "\n",
      "Keeping up with the latest developments and breakthroughs in Multi AI Agent Systems is crucial for staying informed about industry events, conferences, and future predictions. Recent news in the field of AI technology offers valuable insights into the direction of the industry and the potential impact on various sectors. By staying informed about noteworthy news in Multi AI Agent Systems, professionals can anticipate market trends, identify emerging opportunities, and make strategic decisions that drive success.\n",
      "\n",
      "In conclusion, exploring the latest trends in Multi AI Agent Systems is essential for professionals and decision-makers in the AI and technology industry. By understanding the advancements, key players, and noteworthy news in this field, stakeholders can harness the power of AI technology to drive innovation and growth in their respective industries. I encourage readers to stay informed about the future of AI technology and to actively engage with the latest developments in Multi AI Agent Systems. Let's continue to explore the possibilities and potential of AI technology together.\n",
      "\n",
      "\u001b[00m\n",
      "\u001b[1m\u001b[95m [DEBUG]: == Working Agent: Editor\u001b[00m\n",
      "\u001b[1m\u001b[95m [INFO]: == Starting Task: Proofread the given blog post for grammatical errors and alignment with the brand's voice.\u001b[00m\n",
      "\n",
      "\n",
      "\u001b[1m> Entering new CrewAgentExecutor chain...\u001b[0m\n"
     ]
    },
    {
     "name": "stdout",
     "output_type": "stream",
     "text": [
      "\u001b[32;1m\u001b[1;3mI now can give a great answer\n",
      "\n",
      "Final Answer:\n",
      "\n",
      "# Exploring the Latest Trends in Multi AI Agent Systems\n",
      "\n",
      "In today's rapidly evolving technological landscape, Multi AI Agent Systems have emerged as a critical area of interest and innovation. These systems involve the integration of multiple artificial intelligence agents working together towards a common goal, revolutionizing industries across the board. Professionals in the AI and technology industry, researchers, academics, and business owners alike must stay informed about the latest trends in this field to make informed decisions about integrating AI technology into their operations.\n",
      "\n",
      "## Latest Trends in Multi AI Agent Systems\n",
      "\n",
      "Advancements in AI technology and the integration of machine learning algorithms are driving the latest trends in Multi AI Agent Systems. These developments have led to the creation of more sophisticated and efficient AI systems capable of handling complex tasks with ease. From autonomous vehicles to personalized healthcare solutions, the applications of Multi AI Agent Systems are vast and expanding across various industries. By harnessing the power of AI, businesses can streamline operations, improve decision-making processes, and enhance customer experiences.\n",
      "\n",
      "## Key Players in the Multi AI Agent Systems Market\n",
      "\n",
      "Leading companies in the field of Multi AI Agent Systems are driving innovation through collaborations and partnerships that shape the industry's dynamics. These key players are constantly pushing the boundaries of AI technology, developing cutting-edge solutions to address real-world challenges. Stakeholders can stay ahead of the curve and capitalize on emerging opportunities by understanding the landscape of the Multi AI Agent Systems market and the impact of these players.\n",
      "\n",
      "## Noteworthy News in Multi AI Agent Systems\n",
      "\n",
      "Staying informed about the latest developments and breakthroughs in Multi AI Agent Systems is crucial for industry professionals to anticipate market trends, identify emerging opportunities, and make strategic decisions. Recent news in the field of AI technology provides valuable insights into the industry's direction and potential impact on various sectors. By actively engaging with the latest news in Multi AI Agent Systems, professionals can drive innovation and growth in their industries.\n",
      "\n",
      "In conclusion, exploring the latest trends in Multi AI Agent Systems is essential for professionals and decision-makers in the AI and technology industry. By understanding advancements, key players, and noteworthy news in this field, stakeholders can leverage AI technology to drive innovation. I encourage readers to stay informed about the future of AI technology and actively engage with the latest developments in Multi AI Agent Systems to explore the possibilities and potential of AI technology together.\u001b[0m\n",
      "\n",
      "\u001b[1m> Finished chain.\u001b[0m\n",
      "\u001b[1m\u001b[92m [DEBUG]: == [Editor] Task output: # Exploring the Latest Trends in Multi AI Agent Systems\n",
      "\n",
      "In today's rapidly evolving technological landscape, Multi AI Agent Systems have emerged as a critical area of interest and innovation. These systems involve the integration of multiple artificial intelligence agents working together towards a common goal, revolutionizing industries across the board. Professionals in the AI and technology industry, researchers, academics, and business owners alike must stay informed about the latest trends in this field to make informed decisions about integrating AI technology into their operations.\n",
      "\n",
      "## Latest Trends in Multi AI Agent Systems\n",
      "\n",
      "Advancements in AI technology and the integration of machine learning algorithms are driving the latest trends in Multi AI Agent Systems. These developments have led to the creation of more sophisticated and efficient AI systems capable of handling complex tasks with ease. From autonomous vehicles to personalized healthcare solutions, the applications of Multi AI Agent Systems are vast and expanding across various industries. By harnessing the power of AI, businesses can streamline operations, improve decision-making processes, and enhance customer experiences.\n",
      "\n",
      "## Key Players in the Multi AI Agent Systems Market\n",
      "\n",
      "Leading companies in the field of Multi AI Agent Systems are driving innovation through collaborations and partnerships that shape the industry's dynamics. These key players are constantly pushing the boundaries of AI technology, developing cutting-edge solutions to address real-world challenges. Stakeholders can stay ahead of the curve and capitalize on emerging opportunities by understanding the landscape of the Multi AI Agent Systems market and the impact of these players.\n",
      "\n",
      "## Noteworthy News in Multi AI Agent Systems\n",
      "\n",
      "Staying informed about the latest developments and breakthroughs in Multi AI Agent Systems is crucial for industry professionals to anticipate market trends, identify emerging opportunities, and make strategic decisions. Recent news in the field of AI technology provides valuable insights into the industry's direction and potential impact on various sectors. By actively engaging with the latest news in Multi AI Agent Systems, professionals can drive innovation and growth in their industries.\n",
      "\n",
      "In conclusion, exploring the latest trends in Multi AI Agent Systems is essential for professionals and decision-makers in the AI and technology industry. By understanding advancements, key players, and noteworthy news in this field, stakeholders can leverage AI technology to drive innovation. I encourage readers to stay informed about the future of AI technology and actively engage with the latest developments in Multi AI Agent Systems to explore the possibilities and potential of AI technology together.\n",
      "\n",
      "\u001b[00m\n"
     ]
    }
   ],
   "source": [
    "result = crew.kickoff(inputs={\"topic\": \"Multi AI Agent Systems\"})"
   ]
  },
  {
   "cell_type": "markdown",
   "metadata": {},
   "source": [
    "- Display the results of your execution as markdown in the notebook."
   ]
  },
  {
   "cell_type": "code",
   "execution_count": 12,
   "metadata": {
    "height": 47
   },
   "outputs": [
    {
     "data": {
      "text/markdown": [
       "# Exploring the Latest Trends in Multi AI Agent Systems\n",
       "\n",
       "In today's rapidly evolving technological landscape, Multi AI Agent Systems have emerged as a critical area of interest and innovation. These systems involve the integration of multiple artificial intelligence agents working together towards a common goal, revolutionizing industries across the board. Professionals in the AI and technology industry, researchers, academics, and business owners alike must stay informed about the latest trends in this field to make informed decisions about integrating AI technology into their operations.\n",
       "\n",
       "## Latest Trends in Multi AI Agent Systems\n",
       "\n",
       "Advancements in AI technology and the integration of machine learning algorithms are driving the latest trends in Multi AI Agent Systems. These developments have led to the creation of more sophisticated and efficient AI systems capable of handling complex tasks with ease. From autonomous vehicles to personalized healthcare solutions, the applications of Multi AI Agent Systems are vast and expanding across various industries. By harnessing the power of AI, businesses can streamline operations, improve decision-making processes, and enhance customer experiences.\n",
       "\n",
       "## Key Players in the Multi AI Agent Systems Market\n",
       "\n",
       "Leading companies in the field of Multi AI Agent Systems are driving innovation through collaborations and partnerships that shape the industry's dynamics. These key players are constantly pushing the boundaries of AI technology, developing cutting-edge solutions to address real-world challenges. Stakeholders can stay ahead of the curve and capitalize on emerging opportunities by understanding the landscape of the Multi AI Agent Systems market and the impact of these players.\n",
       "\n",
       "## Noteworthy News in Multi AI Agent Systems\n",
       "\n",
       "Staying informed about the latest developments and breakthroughs in Multi AI Agent Systems is crucial for industry professionals to anticipate market trends, identify emerging opportunities, and make strategic decisions. Recent news in the field of AI technology provides valuable insights into the industry's direction and potential impact on various sectors. By actively engaging with the latest news in Multi AI Agent Systems, professionals can drive innovation and growth in their industries.\n",
       "\n",
       "In conclusion, exploring the latest trends in Multi AI Agent Systems is essential for professionals and decision-makers in the AI and technology industry. By understanding advancements, key players, and noteworthy news in this field, stakeholders can leverage AI technology to drive innovation. I encourage readers to stay informed about the future of AI technology and actively engage with the latest developments in Multi AI Agent Systems to explore the possibilities and potential of AI technology together."
      ],
      "text/plain": [
       "<IPython.core.display.Markdown object>"
      ]
     },
     "execution_count": 12,
     "metadata": {},
     "output_type": "execute_result"
    }
   ],
   "source": [
    "from IPython.display import Markdown\n",
    "Markdown(result)"
   ]
  },
  {
   "cell_type": "markdown",
   "metadata": {},
   "source": [
    "## Try it Yourself\n",
    "\n",
    "- Pass in a topic of your choice and see what the agents come up with!"
   ]
  },
  {
   "cell_type": "code",
   "execution_count": null,
   "metadata": {
    "height": 47
   },
   "outputs": [],
   "source": [
    "topic = \"YOUR TOPIC HERE\"\n",
    "result = crew.kickoff(inputs={\"topic\": topic})"
   ]
  },
  {
   "cell_type": "code",
   "execution_count": null,
   "metadata": {
    "height": 30
   },
   "outputs": [],
   "source": [
    "Markdown(result)"
   ]
  },
  {
   "cell_type": "markdown",
   "metadata": {},
   "source": [
    "<a name='1'></a>\n",
    " ## Other Popular Models as LLM for your Agents"
   ]
  },
  {
   "cell_type": "markdown",
   "metadata": {},
   "source": [
    "#### Hugging Face (HuggingFaceHub endpoint)\n",
    "\n",
    "```Python\n",
    "from langchain_community.llms import HuggingFaceHub\n",
    "\n",
    "llm = HuggingFaceHub(\n",
    "    repo_id=\"HuggingFaceH4/zephyr-7b-beta\",\n",
    "    huggingfacehub_api_token=\"<HF_TOKEN_HERE>\",\n",
    "    task=\"text-generation\",\n",
    ")\n",
    "\n",
    "### you will pass \"llm\" to your agent function\n",
    "```"
   ]
  },
  {
   "cell_type": "markdown",
   "metadata": {},
   "source": [
    "#### Mistral API\n",
    "\n",
    "```Python\n",
    "OPENAI_API_KEY=your-mistral-api-key\n",
    "OPENAI_API_BASE=https://api.mistral.ai/v1\n",
    "OPENAI_MODEL_NAME=\"mistral-small\"\n",
    "```"
   ]
  },
  {
   "cell_type": "markdown",
   "metadata": {},
   "source": [
    "#### Cohere\n",
    "\n",
    "```Python\n",
    "from langchain_community.chat_models import ChatCohere\n",
    "# Initialize language model\n",
    "os.environ[\"COHERE_API_KEY\"] = \"your-cohere-api-key\"\n",
    "llm = ChatCohere()\n",
    "\n",
    "### you will pass \"llm\" to your agent function\n",
    "```"
   ]
  },
  {
   "cell_type": "markdown",
   "metadata": {},
   "source": [
    "### For using Llama locally with Ollama and more, checkout the crewAI documentation on [Connecting to any LLM](https://docs.crewai.com/how-to/LLM-Connections/)."
   ]
  },
  {
   "cell_type": "code",
   "execution_count": null,
   "metadata": {
    "height": 30
   },
   "outputs": [],
   "source": []
  },
  {
   "cell_type": "code",
   "execution_count": null,
   "metadata": {
    "height": 30
   },
   "outputs": [],
   "source": []
  },
  {
   "cell_type": "code",
   "execution_count": null,
   "metadata": {
    "height": 30
   },
   "outputs": [],
   "source": []
  }
 ],
 "metadata": {
  "colab": {
   "gpuType": "T4",
   "provenance": []
  },
  "kernelspec": {
   "display_name": "Python 3 (ipykernel)",
   "language": "python",
   "name": "python3"
  },
  "language_info": {
   "codemirror_mode": {
    "name": "ipython",
    "version": 3
   },
   "file_extension": ".py",
   "mimetype": "text/x-python",
   "name": "python",
   "nbconvert_exporter": "python",
   "pygments_lexer": "ipython3",
   "version": "3.11.9"
  }
 },
 "nbformat": 4,
 "nbformat_minor": 4
}
